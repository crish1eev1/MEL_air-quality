{
 "cells": [
  {
   "cell_type": "markdown",
   "metadata": {},
   "source": [
    "# Lille Metropole Dataset - Qualité de l'air"
   ]
  },
  {
   "cell_type": "markdown",
   "metadata": {},
   "source": [
    "## 0. Setting-Up"
   ]
  },
  {
   "cell_type": "markdown",
   "metadata": {},
   "source": [
    "#### Some context"
   ]
  },
  {
   "cell_type": "markdown",
   "metadata": {},
   "source": [
    "https://fr.wikipedia.org/wiki/Indice_de_qualit%C3%A9_de_l%27air\n",
    "\n",
    "Le nouvel indice de qualité de l’air ATMO est un indicateur journalier gradué de 1 (bon) à 6 (extrêmement mauvais) qui permet de caractériser de manière simple et globale la qualité de l’air d’une agglomération urbaine.\n",
    "\n",
    "Il se compose de 5 sous-indices, chacun étant représentatif d'un polluant de l'air :\n",
    "- dioxyde d'azote (NO2 ou code_no2)\n",
    "- dioxyde de soufre (SO2 ou code_so2)\n",
    "- ozone (O3 ou code_o3)\n",
    "- particules fines de moins de 10mm (PM10 ou code_pm10)\n",
    "- particules fines de moins de 2.5mm (PM2.5 ou code_pm25)\n",
    "\n",
    "Le sous-indice le plus élevé détermine l'indice du jour.\n",
    "\n",
    "Il est calculé à partir des mesures des stations représentatives de la pollution de fond. Il ne prend pas en compte les phénomènes de proximité (automobile ou industriel).\n",
    "\n",
    "| O3         | SO2       | NO2       | PM10      | PM2.5   | Niveau              |\n",
    "|------------|-----------|-----------|-----------|---------|---------------------|\n",
    "| 0 à 50     | 0 à 100   | 0 à 40    | 0 à 20    | 0 à 10  | Bon                 |\n",
    "| 50 à 100   | 100 à 200 | 40 à 90   | 20 à 40   | 10 à 20 | Moyen               |\n",
    "| 100 à 130  | 200 à 350 | 90 à 120  | 40 à 50   | 20 à 25 | Dégradé             |\n",
    "| 130 à 240  | 350 à 500 | 120 à 230 | 50 à 100  | 25 à 50 | Mauvais             |\n",
    "| 240 à 380  | 500 à 750 | 230 à 340 | 100 à 150 | 50 à 75 | Très mauvais        |\n",
    "| > 380      | > 750     | > 340     | > 150     | > 75    | Extrêmement mauvais |\t \t \t \t \t\n",
    " \t \t \t \t \t"
   ]
  },
  {
   "cell_type": "markdown",
   "metadata": {},
   "source": [
    "#### Importing Librairies & Modules"
   ]
  },
  {
   "cell_type": "markdown",
   "metadata": {},
   "source": [
    "## 1. Collecting the Data"
   ]
  },
  {
   "cell_type": "code",
   "execution_count": 17,
   "metadata": {},
   "outputs": [],
   "source": [
    "import pandas as pd\n",
    "import matplotlib.pyplot as plt\n",
    "import seaborn as sns\n",
    "import requests\n",
    "import time # provides various time-related functions\n",
    "from datetime import datetime\n",
    "import geopandas as gpd\n",
    "# from arcgis.features import FeatureLayer"
   ]
  },
  {
   "cell_type": "markdown",
   "metadata": {},
   "source": [
    "#### Verifying api response"
   ]
  },
  {
   "cell_type": "code",
   "execution_count": 18,
   "metadata": {},
   "outputs": [
    {
     "name": "stdout",
     "output_type": "stream",
     "text": [
      "URL: https://opendata.lillemetropole.fr/api/v2/catalog/datasets/indice-qualite-de-lair/exports/json?limit=10\n",
      "HTTP Response Status Code: 200\n",
      "HTTP Error: None\n",
      "Encoding: utf-8\n",
      "Header content type: application/json; charset=utf-8\n",
      "Cookies: <RequestsCookieJar[]>\n"
     ]
    }
   ],
   "source": [
    "#alternative source: https://data-atmo-hdf.opendata.arcgis.com/search?collection=Dataset\n",
    "#alternative source: https://services8.arcgis.com/rxZzohbySMKHTNcy/ArcGIS/rest/services/ind_hdf_2021/FeatureServer/0\n",
    "dataset_id = \"indice-qualite-de-lair\"\n",
    "format = \"json\"\n",
    "limit = \"10\"\n",
    "r = requests.get(f\"https://opendata.lillemetropole.fr/api/v2/catalog/datasets/{dataset_id}/exports/{format}?limit={limit}\", timeout=2)\n",
    "\n",
    "print(f\"URL: {r.url}\")\n",
    "print(f\"HTTP Response Status Code: {r.status_code}\") \n",
    "print(f\"HTTP Error: {r.raise_for_status()}\")\n",
    "print(f\"Encoding: {r.encoding}\")\n",
    "print(f\"Header content type: {r.headers.get('content-type')}\")\n",
    "print(f\"Cookies: {r.cookies}\")\n",
    "\n",
    "r.close()\n"
   ]
  },
  {
   "cell_type": "markdown",
   "metadata": {},
   "source": [
    "#### Extracting full dataset into dataframe"
   ]
  },
  {
   "cell_type": "code",
   "execution_count": 19,
   "metadata": {},
   "outputs": [
    {
     "data": {
      "text/html": [
       "<div>\n",
       "<style scoped>\n",
       "    .dataframe tbody tr th:only-of-type {\n",
       "        vertical-align: middle;\n",
       "    }\n",
       "\n",
       "    .dataframe tbody tr th {\n",
       "        vertical-align: top;\n",
       "    }\n",
       "\n",
       "    .dataframe thead th {\n",
       "        text-align: right;\n",
       "    }\n",
       "</style>\n",
       "<table border=\"1\" class=\"dataframe\">\n",
       "  <thead>\n",
       "    <tr style=\"text-align: right;\">\n",
       "      <th></th>\n",
       "      <th>date_ech</th>\n",
       "      <th>code_qual</th>\n",
       "      <th>lib_qual</th>\n",
       "      <th>coul_qual</th>\n",
       "      <th>date_dif</th>\n",
       "      <th>source</th>\n",
       "      <th>type_zone</th>\n",
       "      <th>code_zone</th>\n",
       "      <th>lib_zone</th>\n",
       "      <th>code_no2</th>\n",
       "      <th>...</th>\n",
       "      <th>code_pm25</th>\n",
       "      <th>x_wgs84</th>\n",
       "      <th>y_wgs84</th>\n",
       "      <th>x_reg</th>\n",
       "      <th>y_reg</th>\n",
       "      <th>epsg_reg</th>\n",
       "      <th>objectid</th>\n",
       "      <th>geo_shape</th>\n",
       "      <th>geo_point_2d</th>\n",
       "      <th>code_posta</th>\n",
       "    </tr>\n",
       "  </thead>\n",
       "  <tbody>\n",
       "    <tr>\n",
       "      <th>0</th>\n",
       "      <td>2022-05-05T02:00:00+00:00</td>\n",
       "      <td>2</td>\n",
       "      <td>Moyen</td>\n",
       "      <td>#50CCAA</td>\n",
       "      <td>2022-05-06T14:10:06+00:00</td>\n",
       "      <td>Atmo HDF</td>\n",
       "      <td>commune</td>\n",
       "      <td>59051</td>\n",
       "      <td>BASSEE</td>\n",
       "      <td>1</td>\n",
       "      <td>...</td>\n",
       "      <td>2</td>\n",
       "      <td>2.80943</td>\n",
       "      <td>50.54002</td>\n",
       "      <td>686469</td>\n",
       "      <td>7049214</td>\n",
       "      <td>2154</td>\n",
       "      <td>460317</td>\n",
       "      <td>{'type': 'Feature', 'geometry': {'coordinates'...</td>\n",
       "      <td>{'lon': 2.80943, 'lat': 50.54001999999999}</td>\n",
       "      <td>59480</td>\n",
       "    </tr>\n",
       "    <tr>\n",
       "      <th>1</th>\n",
       "      <td>2022-05-05T02:00:00+00:00</td>\n",
       "      <td>2</td>\n",
       "      <td>Moyen</td>\n",
       "      <td>#50CCAA</td>\n",
       "      <td>2022-05-06T14:10:06+00:00</td>\n",
       "      <td>Atmo HDF</td>\n",
       "      <td>commune</td>\n",
       "      <td>59056</td>\n",
       "      <td>BEAUCAMPS LIGNY</td>\n",
       "      <td>1</td>\n",
       "      <td>...</td>\n",
       "      <td>2</td>\n",
       "      <td>2.91439</td>\n",
       "      <td>50.60625</td>\n",
       "      <td>693929</td>\n",
       "      <td>7056581</td>\n",
       "      <td>2154</td>\n",
       "      <td>460322</td>\n",
       "      <td>{'type': 'Feature', 'geometry': {'coordinates'...</td>\n",
       "      <td>{'lon': 2.914389999999999, 'lat': 50.606249999...</td>\n",
       "      <td>59134</td>\n",
       "    </tr>\n",
       "    <tr>\n",
       "      <th>2</th>\n",
       "      <td>2022-05-05T02:00:00+00:00</td>\n",
       "      <td>2</td>\n",
       "      <td>Moyen</td>\n",
       "      <td>#50CCAA</td>\n",
       "      <td>2022-05-06T14:10:06+00:00</td>\n",
       "      <td>Atmo HDF</td>\n",
       "      <td>commune</td>\n",
       "      <td>59106</td>\n",
       "      <td>BOUVINES</td>\n",
       "      <td>1</td>\n",
       "      <td>...</td>\n",
       "      <td>2</td>\n",
       "      <td>3.19263</td>\n",
       "      <td>50.58194</td>\n",
       "      <td>713665</td>\n",
       "      <td>7053885</td>\n",
       "      <td>2154</td>\n",
       "      <td>460371</td>\n",
       "      <td>{'type': 'Feature', 'geometry': {'coordinates'...</td>\n",
       "      <td>{'lon': 3.19263, 'lat': 50.58194000000001}</td>\n",
       "      <td>59830</td>\n",
       "    </tr>\n",
       "    <tr>\n",
       "      <th>3</th>\n",
       "      <td>2022-05-05T02:00:00+00:00</td>\n",
       "      <td>2</td>\n",
       "      <td>Moyen</td>\n",
       "      <td>#50CCAA</td>\n",
       "      <td>2022-05-06T14:10:06+00:00</td>\n",
       "      <td>Atmo HDF</td>\n",
       "      <td>commune</td>\n",
       "      <td>59146</td>\n",
       "      <td>CHERENG</td>\n",
       "      <td>1</td>\n",
       "      <td>...</td>\n",
       "      <td>2</td>\n",
       "      <td>3.20959</td>\n",
       "      <td>50.61086</td>\n",
       "      <td>714860</td>\n",
       "      <td>7057111</td>\n",
       "      <td>2154</td>\n",
       "      <td>460411</td>\n",
       "      <td>{'type': 'Feature', 'geometry': {'coordinates'...</td>\n",
       "      <td>{'lon': 3.20959, 'lat': 50.610859999999995}</td>\n",
       "      <td>59152</td>\n",
       "    </tr>\n",
       "    <tr>\n",
       "      <th>4</th>\n",
       "      <td>2022-05-05T02:00:00+00:00</td>\n",
       "      <td>2</td>\n",
       "      <td>Moyen</td>\n",
       "      <td>#50CCAA</td>\n",
       "      <td>2022-05-06T14:10:06+00:00</td>\n",
       "      <td>Atmo HDF</td>\n",
       "      <td>commune</td>\n",
       "      <td>59201</td>\n",
       "      <td>ERQUINGHEM LE SEC</td>\n",
       "      <td>1</td>\n",
       "      <td>...</td>\n",
       "      <td>2</td>\n",
       "      <td>2.93325</td>\n",
       "      <td>50.61081</td>\n",
       "      <td>695267</td>\n",
       "      <td>7057087</td>\n",
       "      <td>2154</td>\n",
       "      <td>460465</td>\n",
       "      <td>{'type': 'Feature', 'geometry': {'coordinates'...</td>\n",
       "      <td>{'lon': 2.93325, 'lat': 50.61081}</td>\n",
       "      <td>59320</td>\n",
       "    </tr>\n",
       "  </tbody>\n",
       "</table>\n",
       "<p>5 rows × 23 columns</p>\n",
       "</div>"
      ],
      "text/plain": [
       "                    date_ech  code_qual lib_qual coul_qual  \\\n",
       "0  2022-05-05T02:00:00+00:00          2    Moyen   #50CCAA   \n",
       "1  2022-05-05T02:00:00+00:00          2    Moyen   #50CCAA   \n",
       "2  2022-05-05T02:00:00+00:00          2    Moyen   #50CCAA   \n",
       "3  2022-05-05T02:00:00+00:00          2    Moyen   #50CCAA   \n",
       "4  2022-05-05T02:00:00+00:00          2    Moyen   #50CCAA   \n",
       "\n",
       "                    date_dif    source type_zone  code_zone  \\\n",
       "0  2022-05-06T14:10:06+00:00  Atmo HDF   commune      59051   \n",
       "1  2022-05-06T14:10:06+00:00  Atmo HDF   commune      59056   \n",
       "2  2022-05-06T14:10:06+00:00  Atmo HDF   commune      59106   \n",
       "3  2022-05-06T14:10:06+00:00  Atmo HDF   commune      59146   \n",
       "4  2022-05-06T14:10:06+00:00  Atmo HDF   commune      59201   \n",
       "\n",
       "            lib_zone  code_no2  ...  code_pm25  x_wgs84   y_wgs84   x_reg  \\\n",
       "0             BASSEE         1  ...          2  2.80943  50.54002  686469   \n",
       "1    BEAUCAMPS LIGNY         1  ...          2  2.91439  50.60625  693929   \n",
       "2           BOUVINES         1  ...          2  3.19263  50.58194  713665   \n",
       "3            CHERENG         1  ...          2  3.20959  50.61086  714860   \n",
       "4  ERQUINGHEM LE SEC         1  ...          2  2.93325  50.61081  695267   \n",
       "\n",
       "     y_reg  epsg_reg  objectid  \\\n",
       "0  7049214      2154    460317   \n",
       "1  7056581      2154    460322   \n",
       "2  7053885      2154    460371   \n",
       "3  7057111      2154    460411   \n",
       "4  7057087      2154    460465   \n",
       "\n",
       "                                           geo_shape  \\\n",
       "0  {'type': 'Feature', 'geometry': {'coordinates'...   \n",
       "1  {'type': 'Feature', 'geometry': {'coordinates'...   \n",
       "2  {'type': 'Feature', 'geometry': {'coordinates'...   \n",
       "3  {'type': 'Feature', 'geometry': {'coordinates'...   \n",
       "4  {'type': 'Feature', 'geometry': {'coordinates'...   \n",
       "\n",
       "                                        geo_point_2d  code_posta  \n",
       "0         {'lon': 2.80943, 'lat': 50.54001999999999}       59480  \n",
       "1  {'lon': 2.914389999999999, 'lat': 50.606249999...       59134  \n",
       "2         {'lon': 3.19263, 'lat': 50.58194000000001}       59830  \n",
       "3        {'lon': 3.20959, 'lat': 50.610859999999995}       59152  \n",
       "4                  {'lon': 2.93325, 'lat': 50.61081}       59320  \n",
       "\n",
       "[5 rows x 23 columns]"
      ]
     },
     "execution_count": 19,
     "metadata": {},
     "output_type": "execute_result"
    }
   ],
   "source": [
    "dataset_id = \"indice-qualite-de-lair\"\n",
    "format = \"json\"\n",
    "limit = \"-1\" # argument to pass to get the full dataset \n",
    "df = pd.read_json(f\"https://opendata.lillemetropole.fr/api/v2/catalog/datasets/{dataset_id}/exports/{format}?limit={limit}\")\n",
    "\n",
    "df.head()"
   ]
  },
  {
   "cell_type": "code",
   "execution_count": 20,
   "metadata": {},
   "outputs": [
    {
     "data": {
      "text/html": [
       "<div>\n",
       "<style scoped>\n",
       "    .dataframe tbody tr th:only-of-type {\n",
       "        vertical-align: middle;\n",
       "    }\n",
       "\n",
       "    .dataframe tbody tr th {\n",
       "        vertical-align: top;\n",
       "    }\n",
       "\n",
       "    .dataframe thead th {\n",
       "        text-align: right;\n",
       "    }\n",
       "</style>\n",
       "<table border=\"1\" class=\"dataframe\">\n",
       "  <thead>\n",
       "    <tr style=\"text-align: right;\">\n",
       "      <th></th>\n",
       "      <th>date_ech</th>\n",
       "      <th>code_qual</th>\n",
       "      <th>lib_qual</th>\n",
       "      <th>coul_qual</th>\n",
       "      <th>date_dif</th>\n",
       "      <th>source</th>\n",
       "      <th>type_zone</th>\n",
       "      <th>code_zone</th>\n",
       "      <th>lib_zone</th>\n",
       "      <th>code_no2</th>\n",
       "      <th>...</th>\n",
       "      <th>code_pm25</th>\n",
       "      <th>x_wgs84</th>\n",
       "      <th>y_wgs84</th>\n",
       "      <th>x_reg</th>\n",
       "      <th>y_reg</th>\n",
       "      <th>epsg_reg</th>\n",
       "      <th>objectid</th>\n",
       "      <th>geo_shape</th>\n",
       "      <th>geo_point_2d</th>\n",
       "      <th>code_posta</th>\n",
       "    </tr>\n",
       "  </thead>\n",
       "  <tbody>\n",
       "    <tr>\n",
       "      <th>25930</th>\n",
       "      <td>2022-09-30T02:00:00+00:00</td>\n",
       "      <td>2</td>\n",
       "      <td>Moyen</td>\n",
       "      <td>#50CCAA</td>\n",
       "      <td>2022-10-01T14:10:07+00:00</td>\n",
       "      <td>Atmo HDF</td>\n",
       "      <td>commune</td>\n",
       "      <td>59044</td>\n",
       "      <td>BAISIEUX</td>\n",
       "      <td>2</td>\n",
       "      <td>...</td>\n",
       "      <td>1</td>\n",
       "      <td>3.24137</td>\n",
       "      <td>50.61093</td>\n",
       "      <td>717113</td>\n",
       "      <td>7057125</td>\n",
       "      <td>2154</td>\n",
       "      <td>1017293</td>\n",
       "      <td>{'type': 'Feature', 'geometry': {'coordinates'...</td>\n",
       "      <td>{'lon': 3.24137, 'lat': 50.610929999999996}</td>\n",
       "      <td>59780</td>\n",
       "    </tr>\n",
       "    <tr>\n",
       "      <th>25931</th>\n",
       "      <td>2022-09-30T02:00:00+00:00</td>\n",
       "      <td>2</td>\n",
       "      <td>Moyen</td>\n",
       "      <td>#50CCAA</td>\n",
       "      <td>2022-10-01T14:10:07+00:00</td>\n",
       "      <td>Atmo HDF</td>\n",
       "      <td>commune</td>\n",
       "      <td>59128</td>\n",
       "      <td>CAPINGHEM</td>\n",
       "      <td>2</td>\n",
       "      <td>...</td>\n",
       "      <td>1</td>\n",
       "      <td>2.96453</td>\n",
       "      <td>50.64707</td>\n",
       "      <td>697487</td>\n",
       "      <td>7061127</td>\n",
       "      <td>2154</td>\n",
       "      <td>1017376</td>\n",
       "      <td>{'type': 'Feature', 'geometry': {'coordinates'...</td>\n",
       "      <td>{'lon': 2.96453, 'lat': 50.64706999999999}</td>\n",
       "      <td>59160</td>\n",
       "    </tr>\n",
       "    <tr>\n",
       "      <th>25932</th>\n",
       "      <td>2022-09-30T02:00:00+00:00</td>\n",
       "      <td>2</td>\n",
       "      <td>Moyen</td>\n",
       "      <td>#50CCAA</td>\n",
       "      <td>2022-10-01T14:10:07+00:00</td>\n",
       "      <td>Atmo HDF</td>\n",
       "      <td>commune</td>\n",
       "      <td>59250</td>\n",
       "      <td>FOURNES EN WEPPES</td>\n",
       "      <td>1</td>\n",
       "      <td>...</td>\n",
       "      <td>1</td>\n",
       "      <td>2.89312</td>\n",
       "      <td>50.59193</td>\n",
       "      <td>692419</td>\n",
       "      <td>7054987</td>\n",
       "      <td>2154</td>\n",
       "      <td>1017494</td>\n",
       "      <td>{'type': 'Feature', 'geometry': {'coordinates'...</td>\n",
       "      <td>{'lon': 2.89312, 'lat': 50.59192999999999}</td>\n",
       "      <td>59134</td>\n",
       "    </tr>\n",
       "    <tr>\n",
       "      <th>25933</th>\n",
       "      <td>2022-09-30T02:00:00+00:00</td>\n",
       "      <td>2</td>\n",
       "      <td>Moyen</td>\n",
       "      <td>#50CCAA</td>\n",
       "      <td>2022-10-01T14:10:07+00:00</td>\n",
       "      <td>Atmo HDF</td>\n",
       "      <td>commune</td>\n",
       "      <td>59252</td>\n",
       "      <td>FRELINGHIEN</td>\n",
       "      <td>1</td>\n",
       "      <td>...</td>\n",
       "      <td>1</td>\n",
       "      <td>2.95157</td>\n",
       "      <td>50.70296</td>\n",
       "      <td>696572</td>\n",
       "      <td>7067356</td>\n",
       "      <td>2154</td>\n",
       "      <td>1017496</td>\n",
       "      <td>{'type': 'Feature', 'geometry': {'coordinates'...</td>\n",
       "      <td>{'lon': 2.9515700000000002, 'lat': 50.70296}</td>\n",
       "      <td>59236</td>\n",
       "    </tr>\n",
       "    <tr>\n",
       "      <th>25934</th>\n",
       "      <td>2022-09-30T02:00:00+00:00</td>\n",
       "      <td>2</td>\n",
       "      <td>Moyen</td>\n",
       "      <td>#50CCAA</td>\n",
       "      <td>2022-10-01T14:10:07+00:00</td>\n",
       "      <td>Atmo HDF</td>\n",
       "      <td>commune</td>\n",
       "      <td>59278</td>\n",
       "      <td>HALLENNES LEZ HAUBOURDIN</td>\n",
       "      <td>1</td>\n",
       "      <td>...</td>\n",
       "      <td>1</td>\n",
       "      <td>2.95469</td>\n",
       "      <td>50.61192</td>\n",
       "      <td>696787</td>\n",
       "      <td>7057210</td>\n",
       "      <td>2154</td>\n",
       "      <td>1017522</td>\n",
       "      <td>{'type': 'Feature', 'geometry': {'coordinates'...</td>\n",
       "      <td>{'lon': 2.9546900000000003, 'lat': 50.61192}</td>\n",
       "      <td>59320</td>\n",
       "    </tr>\n",
       "  </tbody>\n",
       "</table>\n",
       "<p>5 rows × 23 columns</p>\n",
       "</div>"
      ],
      "text/plain": [
       "                        date_ech  code_qual lib_qual coul_qual  \\\n",
       "25930  2022-09-30T02:00:00+00:00          2    Moyen   #50CCAA   \n",
       "25931  2022-09-30T02:00:00+00:00          2    Moyen   #50CCAA   \n",
       "25932  2022-09-30T02:00:00+00:00          2    Moyen   #50CCAA   \n",
       "25933  2022-09-30T02:00:00+00:00          2    Moyen   #50CCAA   \n",
       "25934  2022-09-30T02:00:00+00:00          2    Moyen   #50CCAA   \n",
       "\n",
       "                        date_dif    source type_zone  code_zone  \\\n",
       "25930  2022-10-01T14:10:07+00:00  Atmo HDF   commune      59044   \n",
       "25931  2022-10-01T14:10:07+00:00  Atmo HDF   commune      59128   \n",
       "25932  2022-10-01T14:10:07+00:00  Atmo HDF   commune      59250   \n",
       "25933  2022-10-01T14:10:07+00:00  Atmo HDF   commune      59252   \n",
       "25934  2022-10-01T14:10:07+00:00  Atmo HDF   commune      59278   \n",
       "\n",
       "                       lib_zone  code_no2  ...  code_pm25  x_wgs84   y_wgs84  \\\n",
       "25930                  BAISIEUX         2  ...          1  3.24137  50.61093   \n",
       "25931                 CAPINGHEM         2  ...          1  2.96453  50.64707   \n",
       "25932         FOURNES EN WEPPES         1  ...          1  2.89312  50.59193   \n",
       "25933               FRELINGHIEN         1  ...          1  2.95157  50.70296   \n",
       "25934  HALLENNES LEZ HAUBOURDIN         1  ...          1  2.95469  50.61192   \n",
       "\n",
       "        x_reg    y_reg  epsg_reg  objectid  \\\n",
       "25930  717113  7057125      2154   1017293   \n",
       "25931  697487  7061127      2154   1017376   \n",
       "25932  692419  7054987      2154   1017494   \n",
       "25933  696572  7067356      2154   1017496   \n",
       "25934  696787  7057210      2154   1017522   \n",
       "\n",
       "                                               geo_shape  \\\n",
       "25930  {'type': 'Feature', 'geometry': {'coordinates'...   \n",
       "25931  {'type': 'Feature', 'geometry': {'coordinates'...   \n",
       "25932  {'type': 'Feature', 'geometry': {'coordinates'...   \n",
       "25933  {'type': 'Feature', 'geometry': {'coordinates'...   \n",
       "25934  {'type': 'Feature', 'geometry': {'coordinates'...   \n",
       "\n",
       "                                       geo_point_2d  code_posta  \n",
       "25930   {'lon': 3.24137, 'lat': 50.610929999999996}       59780  \n",
       "25931    {'lon': 2.96453, 'lat': 50.64706999999999}       59160  \n",
       "25932    {'lon': 2.89312, 'lat': 50.59192999999999}       59134  \n",
       "25933  {'lon': 2.9515700000000002, 'lat': 50.70296}       59236  \n",
       "25934  {'lon': 2.9546900000000003, 'lat': 50.61192}       59320  \n",
       "\n",
       "[5 rows x 23 columns]"
      ]
     },
     "execution_count": 20,
     "metadata": {},
     "output_type": "execute_result"
    }
   ],
   "source": [
    "df.tail()"
   ]
  },
  {
   "cell_type": "markdown",
   "metadata": {},
   "source": [
    "#### Exporting raw data to CSV"
   ]
  },
  {
   "cell_type": "code",
   "execution_count": 21,
   "metadata": {},
   "outputs": [
    {
     "name": "stdout",
     "output_type": "stream",
     "text": [
      "file name: indice-qualite-de-lair_20221004-152308.csv\n"
     ]
    }
   ],
   "source": [
    "# generating a raw csv file with timestamp including in the name\n",
    "timestr = time.strftime(\"%Y%m%d-%H%M%S\")\n",
    "file_name = \"indice-qualite-de-lair_\" + timestr + \".csv\"\n",
    "print(f\"file name: {file_name}\")\n",
    "\n",
    "df.to_csv('da_data_raw\\\\' + file_name, index = False)"
   ]
  },
  {
   "cell_type": "markdown",
   "metadata": {},
   "source": [
    "## 2. Preparing Data for Analysis"
   ]
  },
  {
   "cell_type": "markdown",
   "metadata": {},
   "source": [
    "#### First basic information about the DataFrame"
   ]
  },
  {
   "cell_type": "code",
   "execution_count": 22,
   "metadata": {},
   "outputs": [
    {
     "name": "stdout",
     "output_type": "stream",
     "text": [
      "<class 'pandas.core.frame.DataFrame'>\n",
      "RangeIndex: 25935 entries, 0 to 25934\n",
      "Data columns (total 23 columns):\n",
      " #   Column        Non-Null Count  Dtype  \n",
      "---  ------        --------------  -----  \n",
      " 0   date_ech      25935 non-null  object \n",
      " 1   code_qual     25935 non-null  int64  \n",
      " 2   lib_qual      25935 non-null  object \n",
      " 3   coul_qual     25935 non-null  object \n",
      " 4   date_dif      25935 non-null  object \n",
      " 5   source        25935 non-null  object \n",
      " 6   type_zone     25935 non-null  object \n",
      " 7   code_zone     25935 non-null  int64  \n",
      " 8   lib_zone      25935 non-null  object \n",
      " 9   code_no2      25935 non-null  int64  \n",
      " 10  code_so2      25935 non-null  int64  \n",
      " 11  code_o3       25935 non-null  int64  \n",
      " 12  code_pm10     25935 non-null  int64  \n",
      " 13  code_pm25     25935 non-null  int64  \n",
      " 14  x_wgs84       25935 non-null  float64\n",
      " 15  y_wgs84       25935 non-null  float64\n",
      " 16  x_reg         25935 non-null  int64  \n",
      " 17  y_reg         25935 non-null  int64  \n",
      " 18  epsg_reg      25935 non-null  int64  \n",
      " 19  objectid      25935 non-null  int64  \n",
      " 20  geo_shape     25935 non-null  object \n",
      " 21  geo_point_2d  25935 non-null  object \n",
      " 22  code_posta    25935 non-null  int64  \n",
      "dtypes: float64(2), int64(12), object(9)\n",
      "memory usage: 4.6+ MB\n"
     ]
    }
   ],
   "source": [
    "# data.info has the merits of combining many functions together\n",
    "# - see if there's null values replacing `df.isnull().sum()`\n",
    "# - see the dtype of each colymns replacing `df.dtypes`\n",
    "# - see the shape of the dataframe replacing `df.shape`\n",
    "# - estimating the memory usage replacing `df.memory_usage`\n",
    "df.info()"
   ]
  },
  {
   "cell_type": "markdown",
   "metadata": {},
   "source": [
    "One issue observed is the number of \"object\" dtypes knowing that we would be able to leverage more functions if some of them were more specifics (string, date...). "
   ]
  },
  {
   "cell_type": "code",
   "execution_count": 23,
   "metadata": {},
   "outputs": [
    {
     "data": {
      "text/plain": [
       "2022-05-05T02:00:00+00:00    95\n",
       "2022-01-14T01:00:00+00:00    95\n",
       "2022-01-15T01:00:00+00:00    95\n",
       "2022-01-16T01:00:00+00:00    95\n",
       "2022-01-17T01:00:00+00:00    95\n",
       "                             ..\n",
       "2022-06-19T02:00:00+00:00    95\n",
       "2022-06-17T02:00:00+00:00    95\n",
       "2022-06-16T02:00:00+00:00    95\n",
       "2022-06-23T02:00:00+00:00    95\n",
       "2022-09-29T02:00:00+00:00    95\n",
       "Name: date_ech, Length: 273, dtype: int64"
      ]
     },
     "execution_count": 23,
     "metadata": {},
     "output_type": "execute_result"
    }
   ],
   "source": [
    "# quick overview of date_ech\n",
    "df[\"date_ech\"].value_counts(ascending=True)"
   ]
  },
  {
   "cell_type": "code",
   "execution_count": 24,
   "metadata": {},
   "outputs": [
    {
     "data": {
      "text/plain": [
       "2022-05-06T14:10:06+00:00     95\n",
       "2022-01-14T14:10:07+00:00     95\n",
       "2022-01-15T14:10:07+00:00     95\n",
       "2022-01-16T14:10:06+00:00     95\n",
       "2022-01-17T14:10:07+00:00     95\n",
       "                            ... \n",
       "2022-06-18T14:10:07+00:00     95\n",
       "2022-06-17T14:10:07+00:00     95\n",
       "2022-06-23T14:10:07+00:00     95\n",
       "2022-09-30T14:10:07+00:00     95\n",
       "2022-10-03T14:10:07+00:00    285\n",
       "Name: date_dif, Length: 271, dtype: int64"
      ]
     },
     "execution_count": 24,
     "metadata": {},
     "output_type": "execute_result"
    }
   ],
   "source": [
    "# quick overview of date_dif\n",
    "df[\"date_dif\"].value_counts(ascending=True)"
   ]
  },
  {
   "cell_type": "code",
   "execution_count": 26,
   "metadata": {},
   "outputs": [
    {
     "data": {
      "text/plain": [
       "95"
      ]
     },
     "execution_count": 26,
     "metadata": {},
     "output_type": "execute_result"
    }
   ],
   "source": [
    "df[\"lib_zone\"].nunique()"
   ]
  },
  {
   "cell_type": "markdown",
   "metadata": {},
   "source": [
    "We have 95 observations each day (i.e. 95 cities **lib_zone**) but we sometimes have 190 unique dates which is suspicious and look like duplicates. \n",
    "Note that it doesn't happen at each import and therefore the code related to the removal of duplicates isn't always necessary (but doesn't hurt)."
   ]
  },
  {
   "cell_type": "markdown",
   "metadata": {},
   "source": [
    "#### Dealing with potential duplicates"
   ]
  },
  {
   "cell_type": "markdown",
   "metadata": {},
   "source": [
    "Performing a `df.duplicated().sum()` gives me a *TypeError: unhashable type: 'dict'* error. This is because columns **geo_shape** and **geo_point_2d** are dictionaries. I'll exclude them. "
   ]
  },
  {
   "cell_type": "code",
   "execution_count": 27,
   "metadata": {},
   "outputs": [
    {
     "data": {
      "text/plain": [
       "0"
      ]
     },
     "execution_count": 27,
     "metadata": {},
     "output_type": "execute_result"
    }
   ],
   "source": [
    "# check duplication of df excluding geo_shape and geo_point_2d\n",
    "df.duplicated(df.columns.difference(['geo_shape', 'geo_point_2d'])).sum()"
   ]
  },
  {
   "cell_type": "markdown",
   "metadata": {},
   "source": [
    "I found this **0** result to be strange given my initial observations with dates **value_counts** and decided to proceed further by including columns one by one to see if duplicates emerge"
   ]
  },
  {
   "cell_type": "code",
   "execution_count": 28,
   "metadata": {},
   "outputs": [
    {
     "data": {
      "text/plain": [
       "0"
      ]
     },
     "execution_count": 28,
     "metadata": {},
     "output_type": "execute_result"
    }
   ],
   "source": [
    "df.duplicated(['date_ech', 'date_dif', 'code_zone', 'lib_zone', 'code_qual', 'lib_qual', 'coul_qual', 'source', 'type_zone', 'code_no2', 'code_so2', 'code_o3', 'code_pm10', 'code_pm25', 'x_wgs84', 'y_wgs84', 'x_reg', 'y_reg', 'epsg_reg']).sum()"
   ]
  },
  {
   "cell_type": "code",
   "execution_count": 29,
   "metadata": {},
   "outputs": [
    {
     "data": {
      "text/plain": [
       "0"
      ]
     },
     "execution_count": 29,
     "metadata": {},
     "output_type": "execute_result"
    }
   ],
   "source": [
    "df.duplicated(['date_ech', 'date_dif', 'code_zone', 'lib_zone', 'code_qual', 'lib_qual', 'coul_qual', 'source', 'type_zone', 'code_no2', 'code_so2', 'code_o3', 'code_pm10', 'code_pm25', 'x_wgs84', 'y_wgs84', 'x_reg', 'y_reg', 'epsg_reg', 'objectid']).sum()"
   ]
  },
  {
   "cell_type": "markdown",
   "metadata": {},
   "source": [
    "The only difference between the two lines of code above is the presence of **objectid** in the second one. In other words, there are numerous duplicates if we ignore **objectid**. Since all other variables are similar and we expect one observation per day per city, I will remove **objectid**, then remove duplicates. "
   ]
  },
  {
   "cell_type": "code",
   "execution_count": 30,
   "metadata": {},
   "outputs": [],
   "source": [
    "# removeing objectid column\n",
    "df.drop(columns=['objectid'], inplace=True)\n",
    "\n",
    "# converting **geo_shape** and **geo_point_2d** to string\n",
    "df['geo_shape'] = df.geo_shape.astype(str)\n",
    "df['geo_point_2d'] = df.geo_point_2d.astype(str)"
   ]
  },
  {
   "cell_type": "code",
   "execution_count": 31,
   "metadata": {},
   "outputs": [
    {
     "data": {
      "text/plain": [
       "0"
      ]
     },
     "execution_count": 31,
     "metadata": {},
     "output_type": "execute_result"
    }
   ],
   "source": [
    "df.duplicated().sum()"
   ]
  },
  {
   "cell_type": "code",
   "execution_count": 32,
   "metadata": {},
   "outputs": [],
   "source": [
    "df.drop_duplicates(inplace=True)"
   ]
  },
  {
   "cell_type": "code",
   "execution_count": 33,
   "metadata": {},
   "outputs": [
    {
     "data": {
      "text/plain": [
       "2022-05-05T02:00:00+00:00    95\n",
       "2022-01-14T01:00:00+00:00    95\n",
       "2022-01-15T01:00:00+00:00    95\n",
       "2022-01-16T01:00:00+00:00    95\n",
       "2022-01-17T01:00:00+00:00    95\n",
       "                             ..\n",
       "2022-06-19T02:00:00+00:00    95\n",
       "2022-06-17T02:00:00+00:00    95\n",
       "2022-06-16T02:00:00+00:00    95\n",
       "2022-06-23T02:00:00+00:00    95\n",
       "2022-09-29T02:00:00+00:00    95\n",
       "Name: date_ech, Length: 273, dtype: int64"
      ]
     },
     "execution_count": 33,
     "metadata": {},
     "output_type": "execute_result"
    }
   ],
   "source": [
    "df[\"date_ech\"].value_counts(ascending=True)"
   ]
  },
  {
   "cell_type": "code",
   "execution_count": 34,
   "metadata": {},
   "outputs": [
    {
     "data": {
      "text/plain": [
       "2022-05-06T14:10:06+00:00     95\n",
       "2022-01-14T14:10:07+00:00     95\n",
       "2022-01-15T14:10:07+00:00     95\n",
       "2022-01-16T14:10:06+00:00     95\n",
       "2022-01-17T14:10:07+00:00     95\n",
       "                            ... \n",
       "2022-06-18T14:10:07+00:00     95\n",
       "2022-06-17T14:10:07+00:00     95\n",
       "2022-06-23T14:10:07+00:00     95\n",
       "2022-09-30T14:10:07+00:00     95\n",
       "2022-10-03T14:10:07+00:00    285\n",
       "Name: date_dif, Length: 271, dtype: int64"
      ]
     },
     "execution_count": 34,
     "metadata": {},
     "output_type": "execute_result"
    }
   ],
   "source": [
    "df[\"date_dif\"].value_counts(ascending=True)"
   ]
  },
  {
   "cell_type": "markdown",
   "metadata": {},
   "source": [
    "#### Removal & Renaming of columns"
   ]
  },
  {
   "cell_type": "code",
   "execution_count": 37,
   "metadata": {},
   "outputs": [],
   "source": [
    "subset = df.drop(columns=['coul_qual', 'date_dif', 'source', 'type_zone', 'code_zone', 'x_wgs84', 'y_wgs84', 'x_reg', 'y_reg', 'epsg_reg', 'geo_shape', 'geo_point_2d'], errors='ignore')"
   ]
  },
  {
   "cell_type": "code",
   "execution_count": 38,
   "metadata": {},
   "outputs": [
    {
     "data": {
      "text/html": [
       "<div>\n",
       "<style scoped>\n",
       "    .dataframe tbody tr th:only-of-type {\n",
       "        vertical-align: middle;\n",
       "    }\n",
       "\n",
       "    .dataframe tbody tr th {\n",
       "        vertical-align: top;\n",
       "    }\n",
       "\n",
       "    .dataframe thead th {\n",
       "        text-align: right;\n",
       "    }\n",
       "</style>\n",
       "<table border=\"1\" class=\"dataframe\">\n",
       "  <thead>\n",
       "    <tr style=\"text-align: right;\">\n",
       "      <th></th>\n",
       "      <th>date_ech</th>\n",
       "      <th>code_qual</th>\n",
       "      <th>lib_qual</th>\n",
       "      <th>lib_zone</th>\n",
       "      <th>code_no2</th>\n",
       "      <th>code_so2</th>\n",
       "      <th>code_o3</th>\n",
       "      <th>code_pm10</th>\n",
       "      <th>code_pm25</th>\n",
       "      <th>code_posta</th>\n",
       "    </tr>\n",
       "  </thead>\n",
       "  <tbody>\n",
       "    <tr>\n",
       "      <th>0</th>\n",
       "      <td>2022-05-05T02:00:00+00:00</td>\n",
       "      <td>2</td>\n",
       "      <td>Moyen</td>\n",
       "      <td>BASSEE</td>\n",
       "      <td>1</td>\n",
       "      <td>1</td>\n",
       "      <td>2</td>\n",
       "      <td>1</td>\n",
       "      <td>2</td>\n",
       "      <td>59480</td>\n",
       "    </tr>\n",
       "    <tr>\n",
       "      <th>1</th>\n",
       "      <td>2022-05-05T02:00:00+00:00</td>\n",
       "      <td>2</td>\n",
       "      <td>Moyen</td>\n",
       "      <td>BEAUCAMPS LIGNY</td>\n",
       "      <td>1</td>\n",
       "      <td>1</td>\n",
       "      <td>2</td>\n",
       "      <td>1</td>\n",
       "      <td>2</td>\n",
       "      <td>59134</td>\n",
       "    </tr>\n",
       "    <tr>\n",
       "      <th>2</th>\n",
       "      <td>2022-05-05T02:00:00+00:00</td>\n",
       "      <td>2</td>\n",
       "      <td>Moyen</td>\n",
       "      <td>BOUVINES</td>\n",
       "      <td>1</td>\n",
       "      <td>1</td>\n",
       "      <td>2</td>\n",
       "      <td>1</td>\n",
       "      <td>2</td>\n",
       "      <td>59830</td>\n",
       "    </tr>\n",
       "    <tr>\n",
       "      <th>3</th>\n",
       "      <td>2022-05-05T02:00:00+00:00</td>\n",
       "      <td>2</td>\n",
       "      <td>Moyen</td>\n",
       "      <td>CHERENG</td>\n",
       "      <td>1</td>\n",
       "      <td>1</td>\n",
       "      <td>2</td>\n",
       "      <td>1</td>\n",
       "      <td>2</td>\n",
       "      <td>59152</td>\n",
       "    </tr>\n",
       "    <tr>\n",
       "      <th>4</th>\n",
       "      <td>2022-05-05T02:00:00+00:00</td>\n",
       "      <td>2</td>\n",
       "      <td>Moyen</td>\n",
       "      <td>ERQUINGHEM LE SEC</td>\n",
       "      <td>1</td>\n",
       "      <td>1</td>\n",
       "      <td>2</td>\n",
       "      <td>1</td>\n",
       "      <td>2</td>\n",
       "      <td>59320</td>\n",
       "    </tr>\n",
       "  </tbody>\n",
       "</table>\n",
       "</div>"
      ],
      "text/plain": [
       "                    date_ech  code_qual lib_qual           lib_zone  code_no2  \\\n",
       "0  2022-05-05T02:00:00+00:00          2    Moyen             BASSEE         1   \n",
       "1  2022-05-05T02:00:00+00:00          2    Moyen    BEAUCAMPS LIGNY         1   \n",
       "2  2022-05-05T02:00:00+00:00          2    Moyen           BOUVINES         1   \n",
       "3  2022-05-05T02:00:00+00:00          2    Moyen            CHERENG         1   \n",
       "4  2022-05-05T02:00:00+00:00          2    Moyen  ERQUINGHEM LE SEC         1   \n",
       "\n",
       "   code_so2  code_o3  code_pm10  code_pm25  code_posta  \n",
       "0         1        2          1          2       59480  \n",
       "1         1        2          1          2       59134  \n",
       "2         1        2          1          2       59830  \n",
       "3         1        2          1          2       59152  \n",
       "4         1        2          1          2       59320  "
      ]
     },
     "execution_count": 38,
     "metadata": {},
     "output_type": "execute_result"
    }
   ],
   "source": [
    "subset.head()"
   ]
  },
  {
   "cell_type": "code",
   "execution_count": 42,
   "metadata": {},
   "outputs": [
    {
     "data": {
      "text/html": [
       "<div>\n",
       "<style scoped>\n",
       "    .dataframe tbody tr th:only-of-type {\n",
       "        vertical-align: middle;\n",
       "    }\n",
       "\n",
       "    .dataframe tbody tr th {\n",
       "        vertical-align: top;\n",
       "    }\n",
       "\n",
       "    .dataframe thead th {\n",
       "        text-align: right;\n",
       "    }\n",
       "</style>\n",
       "<table border=\"1\" class=\"dataframe\">\n",
       "  <thead>\n",
       "    <tr style=\"text-align: right;\">\n",
       "      <th></th>\n",
       "      <th>date_ech</th>\n",
       "      <th>code_qual</th>\n",
       "      <th>lib_qual</th>\n",
       "      <th>code_posta</th>\n",
       "      <th>lib_zone</th>\n",
       "      <th>code_no2</th>\n",
       "      <th>code_so2</th>\n",
       "      <th>code_o3</th>\n",
       "      <th>code_pm10</th>\n",
       "      <th>code_pm25</th>\n",
       "    </tr>\n",
       "  </thead>\n",
       "  <tbody>\n",
       "    <tr>\n",
       "      <th>0</th>\n",
       "      <td>2022-05-05T02:00:00+00:00</td>\n",
       "      <td>2</td>\n",
       "      <td>Moyen</td>\n",
       "      <td>59480</td>\n",
       "      <td>BASSEE</td>\n",
       "      <td>1</td>\n",
       "      <td>1</td>\n",
       "      <td>2</td>\n",
       "      <td>1</td>\n",
       "      <td>2</td>\n",
       "    </tr>\n",
       "    <tr>\n",
       "      <th>1</th>\n",
       "      <td>2022-05-05T02:00:00+00:00</td>\n",
       "      <td>2</td>\n",
       "      <td>Moyen</td>\n",
       "      <td>59134</td>\n",
       "      <td>BEAUCAMPS LIGNY</td>\n",
       "      <td>1</td>\n",
       "      <td>1</td>\n",
       "      <td>2</td>\n",
       "      <td>1</td>\n",
       "      <td>2</td>\n",
       "    </tr>\n",
       "    <tr>\n",
       "      <th>2</th>\n",
       "      <td>2022-05-05T02:00:00+00:00</td>\n",
       "      <td>2</td>\n",
       "      <td>Moyen</td>\n",
       "      <td>59830</td>\n",
       "      <td>BOUVINES</td>\n",
       "      <td>1</td>\n",
       "      <td>1</td>\n",
       "      <td>2</td>\n",
       "      <td>1</td>\n",
       "      <td>2</td>\n",
       "    </tr>\n",
       "    <tr>\n",
       "      <th>3</th>\n",
       "      <td>2022-05-05T02:00:00+00:00</td>\n",
       "      <td>2</td>\n",
       "      <td>Moyen</td>\n",
       "      <td>59152</td>\n",
       "      <td>CHERENG</td>\n",
       "      <td>1</td>\n",
       "      <td>1</td>\n",
       "      <td>2</td>\n",
       "      <td>1</td>\n",
       "      <td>2</td>\n",
       "    </tr>\n",
       "    <tr>\n",
       "      <th>4</th>\n",
       "      <td>2022-05-05T02:00:00+00:00</td>\n",
       "      <td>2</td>\n",
       "      <td>Moyen</td>\n",
       "      <td>59320</td>\n",
       "      <td>ERQUINGHEM LE SEC</td>\n",
       "      <td>1</td>\n",
       "      <td>1</td>\n",
       "      <td>2</td>\n",
       "      <td>1</td>\n",
       "      <td>2</td>\n",
       "    </tr>\n",
       "  </tbody>\n",
       "</table>\n",
       "</div>"
      ],
      "text/plain": [
       "                    date_ech  code_qual lib_qual  code_posta  \\\n",
       "0  2022-05-05T02:00:00+00:00          2    Moyen       59480   \n",
       "1  2022-05-05T02:00:00+00:00          2    Moyen       59134   \n",
       "2  2022-05-05T02:00:00+00:00          2    Moyen       59830   \n",
       "3  2022-05-05T02:00:00+00:00          2    Moyen       59152   \n",
       "4  2022-05-05T02:00:00+00:00          2    Moyen       59320   \n",
       "\n",
       "            lib_zone  code_no2  code_so2  code_o3  code_pm10  code_pm25  \n",
       "0             BASSEE         1         1        2          1          2  \n",
       "1    BEAUCAMPS LIGNY         1         1        2          1          2  \n",
       "2           BOUVINES         1         1        2          1          2  \n",
       "3            CHERENG         1         1        2          1          2  \n",
       "4  ERQUINGHEM LE SEC         1         1        2          1          2  "
      ]
     },
     "execution_count": 42,
     "metadata": {},
     "output_type": "execute_result"
    }
   ],
   "source": [
    "code_posta = subset.pop('code_posta')\n",
    "subset.insert(3, 'code_posta', code_posta)\n",
    "\n",
    "subset.head()"
   ]
  },
  {
   "cell_type": "code",
   "execution_count": 43,
   "metadata": {},
   "outputs": [
    {
     "data": {
      "text/html": [
       "<div>\n",
       "<style scoped>\n",
       "    .dataframe tbody tr th:only-of-type {\n",
       "        vertical-align: middle;\n",
       "    }\n",
       "\n",
       "    .dataframe tbody tr th {\n",
       "        vertical-align: top;\n",
       "    }\n",
       "\n",
       "    .dataframe thead th {\n",
       "        text-align: right;\n",
       "    }\n",
       "</style>\n",
       "<table border=\"1\" class=\"dataframe\">\n",
       "  <thead>\n",
       "    <tr style=\"text-align: right;\">\n",
       "      <th></th>\n",
       "      <th>date</th>\n",
       "      <th>quality_code</th>\n",
       "      <th>quality_label</th>\n",
       "      <th>zip_code</th>\n",
       "      <th>city</th>\n",
       "      <th>no2</th>\n",
       "      <th>so2</th>\n",
       "      <th>o3</th>\n",
       "      <th>pm10</th>\n",
       "      <th>pm2-5</th>\n",
       "    </tr>\n",
       "  </thead>\n",
       "  <tbody>\n",
       "    <tr>\n",
       "      <th>0</th>\n",
       "      <td>2022-05-05T02:00:00+00:00</td>\n",
       "      <td>2</td>\n",
       "      <td>Moyen</td>\n",
       "      <td>59480</td>\n",
       "      <td>BASSEE</td>\n",
       "      <td>1</td>\n",
       "      <td>1</td>\n",
       "      <td>2</td>\n",
       "      <td>1</td>\n",
       "      <td>2</td>\n",
       "    </tr>\n",
       "    <tr>\n",
       "      <th>1</th>\n",
       "      <td>2022-05-05T02:00:00+00:00</td>\n",
       "      <td>2</td>\n",
       "      <td>Moyen</td>\n",
       "      <td>59134</td>\n",
       "      <td>BEAUCAMPS LIGNY</td>\n",
       "      <td>1</td>\n",
       "      <td>1</td>\n",
       "      <td>2</td>\n",
       "      <td>1</td>\n",
       "      <td>2</td>\n",
       "    </tr>\n",
       "    <tr>\n",
       "      <th>2</th>\n",
       "      <td>2022-05-05T02:00:00+00:00</td>\n",
       "      <td>2</td>\n",
       "      <td>Moyen</td>\n",
       "      <td>59830</td>\n",
       "      <td>BOUVINES</td>\n",
       "      <td>1</td>\n",
       "      <td>1</td>\n",
       "      <td>2</td>\n",
       "      <td>1</td>\n",
       "      <td>2</td>\n",
       "    </tr>\n",
       "    <tr>\n",
       "      <th>3</th>\n",
       "      <td>2022-05-05T02:00:00+00:00</td>\n",
       "      <td>2</td>\n",
       "      <td>Moyen</td>\n",
       "      <td>59152</td>\n",
       "      <td>CHERENG</td>\n",
       "      <td>1</td>\n",
       "      <td>1</td>\n",
       "      <td>2</td>\n",
       "      <td>1</td>\n",
       "      <td>2</td>\n",
       "    </tr>\n",
       "    <tr>\n",
       "      <th>4</th>\n",
       "      <td>2022-05-05T02:00:00+00:00</td>\n",
       "      <td>2</td>\n",
       "      <td>Moyen</td>\n",
       "      <td>59320</td>\n",
       "      <td>ERQUINGHEM LE SEC</td>\n",
       "      <td>1</td>\n",
       "      <td>1</td>\n",
       "      <td>2</td>\n",
       "      <td>1</td>\n",
       "      <td>2</td>\n",
       "    </tr>\n",
       "  </tbody>\n",
       "</table>\n",
       "</div>"
      ],
      "text/plain": [
       "                        date  quality_code quality_label  zip_code  \\\n",
       "0  2022-05-05T02:00:00+00:00             2         Moyen     59480   \n",
       "1  2022-05-05T02:00:00+00:00             2         Moyen     59134   \n",
       "2  2022-05-05T02:00:00+00:00             2         Moyen     59830   \n",
       "3  2022-05-05T02:00:00+00:00             2         Moyen     59152   \n",
       "4  2022-05-05T02:00:00+00:00             2         Moyen     59320   \n",
       "\n",
       "                city  no2  so2  o3  pm10  pm2-5  \n",
       "0             BASSEE    1    1   2     1      2  \n",
       "1    BEAUCAMPS LIGNY    1    1   2     1      2  \n",
       "2           BOUVINES    1    1   2     1      2  \n",
       "3            CHERENG    1    1   2     1      2  \n",
       "4  ERQUINGHEM LE SEC    1    1   2     1      2  "
      ]
     },
     "execution_count": 43,
     "metadata": {},
     "output_type": "execute_result"
    }
   ],
   "source": [
    "cols = ['date', 'quality_code', 'quality_label', 'zip_code', 'city', 'no2', 'so2', 'o3', 'pm10', 'pm2-5']\n",
    "subset.columns = cols\n",
    "\n",
    "subset.head()"
   ]
  },
  {
   "cell_type": "markdown",
   "metadata": {},
   "source": [
    "#### Converting Dates"
   ]
  },
  {
   "cell_type": "code",
   "execution_count": null,
   "metadata": {},
   "outputs": [],
   "source": [
    "subset.dtypes"
   ]
  },
  {
   "cell_type": "code",
   "execution_count": 48,
   "metadata": {},
   "outputs": [
    {
     "data": {
      "text/html": [
       "<div>\n",
       "<style scoped>\n",
       "    .dataframe tbody tr th:only-of-type {\n",
       "        vertical-align: middle;\n",
       "    }\n",
       "\n",
       "    .dataframe tbody tr th {\n",
       "        vertical-align: top;\n",
       "    }\n",
       "\n",
       "    .dataframe thead th {\n",
       "        text-align: right;\n",
       "    }\n",
       "</style>\n",
       "<table border=\"1\" class=\"dataframe\">\n",
       "  <thead>\n",
       "    <tr style=\"text-align: right;\">\n",
       "      <th></th>\n",
       "      <th>date</th>\n",
       "      <th>quality_code</th>\n",
       "      <th>quality_label</th>\n",
       "      <th>zip_code</th>\n",
       "      <th>city</th>\n",
       "      <th>no2</th>\n",
       "      <th>so2</th>\n",
       "      <th>o3</th>\n",
       "      <th>pm10</th>\n",
       "      <th>pm2-5</th>\n",
       "    </tr>\n",
       "  </thead>\n",
       "  <tbody>\n",
       "    <tr>\n",
       "      <th>0</th>\n",
       "      <td>2022-05-05</td>\n",
       "      <td>2</td>\n",
       "      <td>Moyen</td>\n",
       "      <td>59480</td>\n",
       "      <td>BASSEE</td>\n",
       "      <td>1</td>\n",
       "      <td>1</td>\n",
       "      <td>2</td>\n",
       "      <td>1</td>\n",
       "      <td>2</td>\n",
       "    </tr>\n",
       "    <tr>\n",
       "      <th>1</th>\n",
       "      <td>2022-05-05</td>\n",
       "      <td>2</td>\n",
       "      <td>Moyen</td>\n",
       "      <td>59134</td>\n",
       "      <td>BEAUCAMPS LIGNY</td>\n",
       "      <td>1</td>\n",
       "      <td>1</td>\n",
       "      <td>2</td>\n",
       "      <td>1</td>\n",
       "      <td>2</td>\n",
       "    </tr>\n",
       "    <tr>\n",
       "      <th>2</th>\n",
       "      <td>2022-05-05</td>\n",
       "      <td>2</td>\n",
       "      <td>Moyen</td>\n",
       "      <td>59830</td>\n",
       "      <td>BOUVINES</td>\n",
       "      <td>1</td>\n",
       "      <td>1</td>\n",
       "      <td>2</td>\n",
       "      <td>1</td>\n",
       "      <td>2</td>\n",
       "    </tr>\n",
       "    <tr>\n",
       "      <th>3</th>\n",
       "      <td>2022-05-05</td>\n",
       "      <td>2</td>\n",
       "      <td>Moyen</td>\n",
       "      <td>59152</td>\n",
       "      <td>CHERENG</td>\n",
       "      <td>1</td>\n",
       "      <td>1</td>\n",
       "      <td>2</td>\n",
       "      <td>1</td>\n",
       "      <td>2</td>\n",
       "    </tr>\n",
       "    <tr>\n",
       "      <th>4</th>\n",
       "      <td>2022-05-05</td>\n",
       "      <td>2</td>\n",
       "      <td>Moyen</td>\n",
       "      <td>59320</td>\n",
       "      <td>ERQUINGHEM LE SEC</td>\n",
       "      <td>1</td>\n",
       "      <td>1</td>\n",
       "      <td>2</td>\n",
       "      <td>1</td>\n",
       "      <td>2</td>\n",
       "    </tr>\n",
       "  </tbody>\n",
       "</table>\n",
       "</div>"
      ],
      "text/plain": [
       "        date  quality_code quality_label  zip_code               city  no2  \\\n",
       "0 2022-05-05             2         Moyen     59480             BASSEE    1   \n",
       "1 2022-05-05             2         Moyen     59134    BEAUCAMPS LIGNY    1   \n",
       "2 2022-05-05             2         Moyen     59830           BOUVINES    1   \n",
       "3 2022-05-05             2         Moyen     59152            CHERENG    1   \n",
       "4 2022-05-05             2         Moyen     59320  ERQUINGHEM LE SEC    1   \n",
       "\n",
       "   so2  o3  pm10  pm2-5  \n",
       "0    1   2     1      2  \n",
       "1    1   2     1      2  \n",
       "2    1   2     1      2  \n",
       "3    1   2     1      2  \n",
       "4    1   2     1      2  "
      ]
     },
     "execution_count": 48,
     "metadata": {},
     "output_type": "execute_result"
    }
   ],
   "source": [
    "#convert date\n",
    "subset[\"date\"] = pd.to_datetime(subset[\"date\"]).dt.normalize()\n",
    "subset.head()"
   ]
  },
  {
   "cell_type": "code",
   "execution_count": 51,
   "metadata": {},
   "outputs": [
    {
     "data": {
      "text/plain": [
       "date             datetime64[ns]\n",
       "quality_code              int64\n",
       "quality_label            object\n",
       "zip_code                  int64\n",
       "city                     object\n",
       "no2                       int64\n",
       "so2                       int64\n",
       "o3                        int64\n",
       "pm10                      int64\n",
       "pm2-5                     int64\n",
       "dtype: object"
      ]
     },
     "execution_count": 51,
     "metadata": {},
     "output_type": "execute_result"
    }
   ],
   "source": [
    "subset.dtypes"
   ]
  },
  {
   "cell_type": "code",
   "execution_count": 54,
   "metadata": {},
   "outputs": [
    {
     "data": {
      "text/html": [
       "<div>\n",
       "<style scoped>\n",
       "    .dataframe tbody tr th:only-of-type {\n",
       "        vertical-align: middle;\n",
       "    }\n",
       "\n",
       "    .dataframe tbody tr th {\n",
       "        vertical-align: top;\n",
       "    }\n",
       "\n",
       "    .dataframe thead th {\n",
       "        text-align: right;\n",
       "    }\n",
       "</style>\n",
       "<table border=\"1\" class=\"dataframe\">\n",
       "  <thead>\n",
       "    <tr style=\"text-align: right;\">\n",
       "      <th></th>\n",
       "      <th>date</th>\n",
       "      <th>quality_code</th>\n",
       "      <th>quality_label</th>\n",
       "      <th>zip_code</th>\n",
       "      <th>city</th>\n",
       "      <th>no2</th>\n",
       "      <th>so2</th>\n",
       "      <th>o3</th>\n",
       "      <th>pm10</th>\n",
       "      <th>pm2-5</th>\n",
       "    </tr>\n",
       "  </thead>\n",
       "  <tbody>\n",
       "    <tr>\n",
       "      <th>11187</th>\n",
       "      <td>2022-01-01</td>\n",
       "      <td>2</td>\n",
       "      <td>Moyen</td>\n",
       "      <td>59496</td>\n",
       "      <td>SALOME</td>\n",
       "      <td>1</td>\n",
       "      <td>1</td>\n",
       "      <td>2</td>\n",
       "      <td>2</td>\n",
       "      <td>2</td>\n",
       "    </tr>\n",
       "    <tr>\n",
       "      <th>11177</th>\n",
       "      <td>2022-01-01</td>\n",
       "      <td>2</td>\n",
       "      <td>Moyen</td>\n",
       "      <td>59510</td>\n",
       "      <td>FOREST SUR MARQUE</td>\n",
       "      <td>2</td>\n",
       "      <td>1</td>\n",
       "      <td>2</td>\n",
       "      <td>2</td>\n",
       "      <td>2</td>\n",
       "    </tr>\n",
       "    <tr>\n",
       "      <th>11176</th>\n",
       "      <td>2022-01-01</td>\n",
       "      <td>2</td>\n",
       "      <td>Moyen</td>\n",
       "      <td>59155</td>\n",
       "      <td>FACHES THUMESNIL</td>\n",
       "      <td>2</td>\n",
       "      <td>1</td>\n",
       "      <td>2</td>\n",
       "      <td>2</td>\n",
       "      <td>2</td>\n",
       "    </tr>\n",
       "    <tr>\n",
       "      <th>11175</th>\n",
       "      <td>2022-01-01</td>\n",
       "      <td>2</td>\n",
       "      <td>Moyen</td>\n",
       "      <td>59320</td>\n",
       "      <td>EMMERIN</td>\n",
       "      <td>1</td>\n",
       "      <td>1</td>\n",
       "      <td>2</td>\n",
       "      <td>2</td>\n",
       "      <td>2</td>\n",
       "    </tr>\n",
       "    <tr>\n",
       "      <th>11174</th>\n",
       "      <td>2022-01-01</td>\n",
       "      <td>2</td>\n",
       "      <td>Moyen</td>\n",
       "      <td>59560</td>\n",
       "      <td>COMINES</td>\n",
       "      <td>1</td>\n",
       "      <td>1</td>\n",
       "      <td>2</td>\n",
       "      <td>2</td>\n",
       "      <td>2</td>\n",
       "    </tr>\n",
       "    <tr>\n",
       "      <th>...</th>\n",
       "      <td>...</td>\n",
       "      <td>...</td>\n",
       "      <td>...</td>\n",
       "      <td>...</td>\n",
       "      <td>...</td>\n",
       "      <td>...</td>\n",
       "      <td>...</td>\n",
       "      <td>...</td>\n",
       "      <td>...</td>\n",
       "      <td>...</td>\n",
       "    </tr>\n",
       "    <tr>\n",
       "      <th>7240</th>\n",
       "      <td>2022-10-04</td>\n",
       "      <td>2</td>\n",
       "      <td>Moyen</td>\n",
       "      <td>59134</td>\n",
       "      <td>HERLIES</td>\n",
       "      <td>1</td>\n",
       "      <td>1</td>\n",
       "      <td>2</td>\n",
       "      <td>1</td>\n",
       "      <td>2</td>\n",
       "    </tr>\n",
       "    <tr>\n",
       "      <th>7236</th>\n",
       "      <td>2022-10-04</td>\n",
       "      <td>2</td>\n",
       "      <td>Moyen</td>\n",
       "      <td>59250</td>\n",
       "      <td>HALLUIN</td>\n",
       "      <td>1</td>\n",
       "      <td>1</td>\n",
       "      <td>2</td>\n",
       "      <td>1</td>\n",
       "      <td>2</td>\n",
       "    </tr>\n",
       "    <tr>\n",
       "      <th>7234</th>\n",
       "      <td>2022-10-04</td>\n",
       "      <td>2</td>\n",
       "      <td>Moyen</td>\n",
       "      <td>59320</td>\n",
       "      <td>HALLENNES LEZ HAUBOURDIN</td>\n",
       "      <td>1</td>\n",
       "      <td>1</td>\n",
       "      <td>2</td>\n",
       "      <td>1</td>\n",
       "      <td>2</td>\n",
       "    </tr>\n",
       "    <tr>\n",
       "      <th>23961</th>\n",
       "      <td>2022-10-04</td>\n",
       "      <td>2</td>\n",
       "      <td>Moyen</td>\n",
       "      <td>59780</td>\n",
       "      <td>BAISIEUX</td>\n",
       "      <td>1</td>\n",
       "      <td>1</td>\n",
       "      <td>2</td>\n",
       "      <td>1</td>\n",
       "      <td>2</td>\n",
       "    </tr>\n",
       "    <tr>\n",
       "      <th>10119</th>\n",
       "      <td>2022-10-04</td>\n",
       "      <td>2</td>\n",
       "      <td>Moyen</td>\n",
       "      <td>59960</td>\n",
       "      <td>NEUVILLE EN FERRAIN</td>\n",
       "      <td>2</td>\n",
       "      <td>1</td>\n",
       "      <td>2</td>\n",
       "      <td>2</td>\n",
       "      <td>2</td>\n",
       "    </tr>\n",
       "  </tbody>\n",
       "</table>\n",
       "<p>25935 rows × 10 columns</p>\n",
       "</div>"
      ],
      "text/plain": [
       "            date  quality_code quality_label  zip_code  \\\n",
       "11187 2022-01-01             2         Moyen     59496   \n",
       "11177 2022-01-01             2         Moyen     59510   \n",
       "11176 2022-01-01             2         Moyen     59155   \n",
       "11175 2022-01-01             2         Moyen     59320   \n",
       "11174 2022-01-01             2         Moyen     59560   \n",
       "...          ...           ...           ...       ...   \n",
       "7240  2022-10-04             2         Moyen     59134   \n",
       "7236  2022-10-04             2         Moyen     59250   \n",
       "7234  2022-10-04             2         Moyen     59320   \n",
       "23961 2022-10-04             2         Moyen     59780   \n",
       "10119 2022-10-04             2         Moyen     59960   \n",
       "\n",
       "                           city  no2  so2  o3  pm10  pm2-5  \n",
       "11187                    SALOME    1    1   2     2      2  \n",
       "11177         FOREST SUR MARQUE    2    1   2     2      2  \n",
       "11176          FACHES THUMESNIL    2    1   2     2      2  \n",
       "11175                   EMMERIN    1    1   2     2      2  \n",
       "11174                   COMINES    1    1   2     2      2  \n",
       "...                         ...  ...  ...  ..   ...    ...  \n",
       "7240                    HERLIES    1    1   2     1      2  \n",
       "7236                    HALLUIN    1    1   2     1      2  \n",
       "7234   HALLENNES LEZ HAUBOURDIN    1    1   2     1      2  \n",
       "23961                  BAISIEUX    1    1   2     1      2  \n",
       "10119       NEUVILLE EN FERRAIN    2    1   2     2      2  \n",
       "\n",
       "[25935 rows x 10 columns]"
      ]
     },
     "execution_count": 54,
     "metadata": {},
     "output_type": "execute_result"
    }
   ],
   "source": [
    "subset.sort_values(by='date')"
   ]
  },
  {
   "cell_type": "markdown",
   "metadata": {},
   "source": [
    "#### Exporting subset to CSV"
   ]
  },
  {
   "cell_type": "code",
   "execution_count": 56,
   "metadata": {},
   "outputs": [
    {
     "name": "stdout",
     "output_type": "stream",
     "text": [
      "file name: indice-qualite-de-lair_20221004-160623.csv\n"
     ]
    }
   ],
   "source": [
    "# generating a subset csv file with timestamp including in the name\n",
    "timestr = time.strftime(\"%Y%m%d-%H%M%S\")\n",
    "file_name = \"indice-qualite-de-lair_\" + timestr + \".csv\"\n",
    "print(f\"file name: {file_name}\")\n",
    "\n",
    "subset.to_csv('da_data_workfiles\\\\' + file_name, index = False)"
   ]
  },
  {
   "cell_type": "markdown",
   "metadata": {},
   "source": [
    "## 3. Data Analysis & Visualization"
   ]
  },
  {
   "cell_type": "code",
   "execution_count": 59,
   "metadata": {},
   "outputs": [
    {
     "data": {
      "text/plain": [
       "<AxesSubplot: xlabel='date', ylabel='quality_code'>"
      ]
     },
     "execution_count": 59,
     "metadata": {},
     "output_type": "execute_result"
    },
    {
     "data": {
      "image/png": "[encoded data removed]",
      "text/plain": [
       "<Figure size 640x480 with 1 Axes>"
      ]
     },
     "metadata": {},
     "output_type": "display_data"
    }
   ],
   "source": [
    "#retriving day and code_qual data filtered only for rows with \"LILLE\"\n",
    "dates_lille = subset[subset['city'] == \"LILLE\"]['date']\n",
    "qual_lille = subset[subset['city'] == \"LILLE\"]['quality_code']\n",
    "df_qual_lille = { 'date': dates_lille, 'quality_code': qual_lille }\n",
    "\n",
    "#plot \n",
    "sns.lineplot(data=df_qual_lille, x='date', y='quality_code')"
   ]
  }
 ],
 "metadata": {
  "kernelspec": {
   "display_name": "Python 3.10.4 ('venv': venv)",
   "language": "python",
   "name": "python3"
  },
  "language_info": {
   "codemirror_mode": {
    "name": "ipython",
    "version": 3
   },
   "file_extension": ".py",
   "mimetype": "text/x-python",
   "name": "python",
   "nbconvert_exporter": "python",
   "pygments_lexer": "ipython3",
   "version": "3.10.4"
  },
  "orig_nbformat": 4,
  "vscode": {
   "interpreter": {
    "hash": "b59159caf4cdfca4a4b08c79a4d0e0c3d88aca3baefe7125b15899be3380383c"
   }
  }
 },
 "nbformat": 4,
 "nbformat_minor": 2
}
